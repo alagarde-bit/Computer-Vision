{
  "nbformat": 4,
  "nbformat_minor": 0,
  "metadata": {
    "colab": {
      "name": "lab16_Lagarde.ipynb",
      "provenance": [],
      "collapsed_sections": [],
      "authorship_tag": "ABX9TyMy+VCuBueJNa1VznL4T7vf",
      "include_colab_link": true
    },
    "kernelspec": {
      "name": "python3",
      "display_name": "Python 3"
    },
    "language_info": {
      "name": "python"
    },
    "accelerator": "GPU"
  },
  "cells": [
    {
      "cell_type": "markdown",
      "metadata": {
        "id": "view-in-github",
        "colab_type": "text"
      },
      "source": [
        "<a href=\"https://colab.research.google.com/github/alagarde-bit/Computer-Vision/blob/main/lab16_Lagarde.ipynb\" target=\"_parent\"><img src=\"https://colab.research.google.com/assets/colab-badge.svg\" alt=\"Open In Colab\"/></a>"
      ]
    },
    {
      "cell_type": "markdown",
      "source": [
        "# CSC 4466 Computer Vision\n",
        "## Lab 16 - Transfer Learning\n",
        "### 4/11/2022\n",
        "### Alex Lagarde\n"
      ],
      "metadata": {
        "id": "HJUBgiFvFtIg"
      }
    },
    {
      "cell_type": "code",
      "source": [
        "import numpy as np\n",
        "import matplotlib.pyplot as plt\n",
        "import cv2\n",
        "import os\n",
        "\n",
        "import tensorflow as tf\n",
        "\n",
        "from tensorflow import keras\n",
        "from tensorflow.keras import layers\n",
        "from tensorflow.keras.models import Sequential\n"
      ],
      "metadata": {
        "id": "QRMsUeYpGKzv"
      },
      "execution_count": 1,
      "outputs": []
    },
    {
      "cell_type": "code",
      "source": [
        "from google_drive_downloader import GoogleDriveDownloader as gdd\n",
        "gdd.download_file_from_google_drive(file_id='15VrN2Bc-7fZd1Z4JH55H_B-o47A5ZhVW',\n",
        "                                    dest_path= '/content/animals.zip',\n",
        "                                    unzip=True)"
      ],
      "metadata": {
        "id": "3iOH__IFGWqw"
      },
      "execution_count": 2,
      "outputs": []
    },
    {
      "cell_type": "code",
      "source": [
        "batch_size = 32\n",
        "img_height = 224\n",
        "img_width = 224\n",
        "\n",
        "# This is the folder where our images are\n",
        "data_dir = 'animals'\n",
        "\n",
        "# Tensorflow will choose some of the images as training data\n",
        "train_ds = tf.keras.utils.image_dataset_from_directory(\n",
        "  data_dir,\n",
        "  validation_split=0.15,\n",
        "  subset=\"training\",\n",
        "  seed=123,\n",
        "  image_size=(img_height, img_width),\n",
        "  batch_size=batch_size)\n",
        "\n",
        "# Tensorflow will chooose the rest of the images as validation data\n",
        "val_ds = tf.keras.utils.image_dataset_from_directory(\n",
        "  data_dir,\n",
        "  validation_split=0.15,\n",
        "  subset=\"validation\",\n",
        "  seed=123,\n",
        "  image_size=(img_height, img_width),\n",
        "  batch_size=batch_size)\n",
        "\n",
        "class_names = train_ds.class_names\n",
        "print(class_names)\n",
        "\n",
        "AUTOTUNE = tf.data.AUTOTUNE\n",
        "\n",
        "train_ds = train_ds.cache().shuffle(1000).prefetch(buffer_size=AUTOTUNE)\n",
        "val_ds = val_ds.cache().prefetch(buffer_size=AUTOTUNE)"
      ],
      "metadata": {
        "colab": {
          "base_uri": "https://localhost:8080/"
        },
        "id": "dK_y6jrsHuXt",
        "outputId": "fbda2551-32e6-450f-ecc2-ef1937dbded1"
      },
      "execution_count": 44,
      "outputs": [
        {
          "output_type": "stream",
          "name": "stdout",
          "text": [
            "Found 3000 files belonging to 3 classes.\n",
            "Using 2550 files for training.\n",
            "Found 3000 files belonging to 3 classes.\n",
            "Using 450 files for validation.\n",
            "['cats', 'dogs', 'panda']\n"
          ]
        }
      ]
    },
    {
      "cell_type": "code",
      "source": [
        "pretrained_model = tf.keras.applications.MobileNetV2(weights='imagenet', include_top=False, input_shape=[img_height, img_width, 3])\n",
        "pretrained_model.trainable = False # no fine-tuning\n",
        "\n",
        "\n",
        "model = tf.keras.Sequential([\n",
        "    # convert image format from int [0,255] to the format expected by this model\n",
        "    tf.keras.layers.Lambda(lambda data: tf.keras.applications.mobilenet.preprocess_input(tf.cast(data, tf.float32)), input_shape=[img_height, img_width, 3], name='preprocess'),\n",
        "    pretrained_model,\n",
        "    tf.keras.layers.Flatten(),\n",
        "    tf.keras.layers.Dense(len(class_names), activation='softmax', name='class_prob')\n",
        "])"
      ],
      "metadata": {
        "id": "FjFIHzRKH3xX"
      },
      "execution_count": 45,
      "outputs": []
    },
    {
      "cell_type": "code",
      "source": [
        "model.compile(\n",
        "    optimizer=tf.keras.optimizers.Adam(learning_rate=0.0005),\n",
        "    loss = 'sparse_categorical_crossentropy',\n",
        "    metrics=['sparse_categorical_accuracy'],\n",
        "    steps_per_execution=8\n",
        ")\n",
        "print('Each output from the flattened layer goes to each of the output neurons:', 62720 * 3 + 3)\n",
        "print()\n",
        "\n",
        "model.summary()"
      ],
      "metadata": {
        "colab": {
          "base_uri": "https://localhost:8080/"
        },
        "id": "P5ynz90tLrGa",
        "outputId": "e7656a7a-fbef-4018-d7c8-6be695f21e28"
      },
      "execution_count": 46,
      "outputs": [
        {
          "output_type": "stream",
          "name": "stdout",
          "text": [
            "Each output from the flattened layer goes to each of the output neurons: 188163\n",
            "\n",
            "Model: \"sequential_13\"\n",
            "_________________________________________________________________\n",
            " Layer (type)                Output Shape              Param #   \n",
            "=================================================================\n",
            " preprocess (Lambda)         (None, 224, 224, 3)       0         \n",
            "                                                                 \n",
            " mobilenetv2_1.00_224 (Funct  (None, 7, 7, 1280)       2257984   \n",
            " ional)                                                          \n",
            "                                                                 \n",
            " flatten_9 (Flatten)         (None, 62720)             0         \n",
            "                                                                 \n",
            " class_prob (Dense)          (None, 3)                 188163    \n",
            "                                                                 \n",
            "=================================================================\n",
            "Total params: 2,446,147\n",
            "Trainable params: 188,163\n",
            "Non-trainable params: 2,257,984\n",
            "_________________________________________________________________\n"
          ]
        }
      ]
    },
    {
      "cell_type": "code",
      "source": [
        "early_stopping_cb = tf.keras.callbacks.EarlyStopping(\n",
        "    monitor='val_sparse_categorical_accuracy', mode='max',\n",
        "    patience=2)\n",
        "\n",
        "epochs = 25\n",
        "\n",
        "history = model.fit(\n",
        "  train_ds,\n",
        "  validation_data=val_ds,\n",
        "  epochs=epochs,\n",
        "  callbacks = [early_stopping_cb]\n",
        ")"
      ],
      "metadata": {
        "colab": {
          "base_uri": "https://localhost:8080/"
        },
        "id": "dmS6Rz1ANGYG",
        "outputId": "233fe12f-41d6-496b-8906-b302496c5494"
      },
      "execution_count": 49,
      "outputs": [
        {
          "output_type": "stream",
          "name": "stdout",
          "text": [
            "Epoch 1/25\n",
            "80/80 [==============================] - 10s 128ms/step - loss: 6.2470e-06 - sparse_categorical_accuracy: 1.0000 - val_loss: 0.2539 - val_sparse_categorical_accuracy: 0.9711\n",
            "Epoch 2/25\n",
            "80/80 [==============================] - 7s 92ms/step - loss: 5.6836e-06 - sparse_categorical_accuracy: 1.0000 - val_loss: 0.2548 - val_sparse_categorical_accuracy: 0.9711\n",
            "Epoch 3/25\n",
            "80/80 [==============================] - 7s 92ms/step - loss: 5.0363e-06 - sparse_categorical_accuracy: 1.0000 - val_loss: 0.2556 - val_sparse_categorical_accuracy: 0.9711\n"
          ]
        }
      ]
    },
    {
      "cell_type": "code",
      "source": [
        "acc = history.history['sparse_categorical_accuracy']\n",
        "val_acc = history.history['val_sparse_categorical_accuracy']\n",
        "\n",
        "loss = history.history['loss']\n",
        "val_loss = history.history['val_loss']\n",
        "\n",
        "epochs_range = range(len(loss))\n",
        "\n",
        "plt.figure(figsize=(8, 8))\n",
        "plt.subplot(1, 2, 1)\n",
        "plt.plot(epochs_range, acc, label='Training Accuracy')\n",
        "plt.plot(epochs_range, val_acc, label='Validation Accuracy')\n",
        "plt.legend(loc='lower right')\n",
        "plt.title('Training and Validation Accuracy')\n",
        "\n",
        "plt.subplot(1, 2, 2)\n",
        "plt.plot(epochs_range, loss, label='Training Loss')\n",
        "plt.plot(epochs_range, val_loss, label='Validation Loss')\n",
        "plt.legend(loc='upper right')\n",
        "plt.title('Training and Validation Loss')\n",
        "plt.show()"
      ],
      "metadata": {
        "colab": {
          "base_uri": "https://localhost:8080/",
          "height": 499
        },
        "id": "MYMuYOXbMzRI",
        "outputId": "1b27cc1c-b104-4eb6-daf2-db3344eb9219"
      },
      "execution_count": 50,
      "outputs": [
        {
          "output_type": "display_data",
          "data": {
            "text/plain": [
              "<Figure size 576x576 with 2 Axes>"
            ],
            "image/png": "[encoded data removed]"
          },
          "metadata": {
            "needs_background": "light"
          }
        }
      ]
    },
    {
      "cell_type": "markdown",
      "source": [
        "4. The best validation accuracy I could get was 97.83% validation accuracy\n",
        "\n",
        "5. The lowest we can get away with is 15% validation set if we want to maintain an accuracy of around 97%"
      ],
      "metadata": {
        "id": "HMH3piSwkNKr"
      }
    }
  ]
}