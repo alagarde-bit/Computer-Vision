{
  "cells": [
    {
      "cell_type": "markdown",
      "metadata": {
        "id": "view-in-github",
        "colab_type": "text"
      },
      "source": [
        "<a href=\"https://colab.research.google.com/github/alagarde-bit/Computer-Vision/blob/main/Lagarde_HW05.ipynb\" target=\"_parent\"><img src=\"https://colab.research.google.com/assets/colab-badge.svg\" alt=\"Open In Colab\"/></a>"
      ]
    },
    {
      "cell_type": "markdown",
      "metadata": {
        "id": "8EUC3-zsqwWm"
      },
      "source": [
        "# CSC 4466 Computer Vision\n",
        "## Homework 5- Birds\n",
        "### 4/16/2022\n",
        "### *** Alex Lagarde ***\n",
        "\n",
        "\n"
      ]
    },
    {
      "cell_type": "code",
      "execution_count": 18,
      "metadata": {
        "id": "qv7ZqXPtrCKI"
      },
      "outputs": [],
      "source": [
        "import numpy as np\n",
        "import matplotlib.pyplot as plt\n",
        "import cv2\n",
        "import os\n",
        "\n",
        "import tensorflow as tf\n",
        "\n",
        "from tensorflow import keras\n",
        "from tensorflow.keras import layers\n",
        "from tensorflow.keras.models import Sequential\n",
        "from tensorflow.keras.callbacks import LearningRateScheduler"
      ]
    },
    {
      "cell_type": "code",
      "execution_count": 19,
      "metadata": {
        "id": "OnIoIejErzA8"
      },
      "outputs": [],
      "source": [
        "from google_drive_downloader import GoogleDriveDownloader as gdd\n",
        "gdd.download_file_from_google_drive(file_id='1NPjoulV3fFxe5y2NWNqcLUjSWzPJckaX',\n",
        "                                    dest_path= '/content/data.zip',\n",
        "                                    unzip=True)\n",
        "\n",
        "gdd.download_file_from_google_drive(file_id='1rmX_B6rphcJo6H-o5USyFVw_jqL_CRrI',\n",
        "                                    dest_path='/content/test.zip',\n",
        "                                    unzip=True)"
      ]
    },
    {
      "cell_type": "code",
      "execution_count": 20,
      "metadata": {
        "colab": {
          "base_uri": "https://localhost:8080/"
        },
        "id": "2ZFAddeEtCP1",
        "outputId": "50624278-9be4-44dc-ae10-7ae6dc7b29ac"
      },
      "outputs": [
        {
          "output_type": "stream",
          "name": "stdout",
          "text": [
            "Found 10000 files belonging to 2 classes.\n",
            "Using 8000 files for training.\n",
            "Found 10000 files belonging to 2 classes.\n",
            "Using 2000 files for validation.\n",
            "['bird', 'not_bird']\n"
          ]
        }
      ],
      "source": [
        "batch_size = 32\n",
        "img_height = 180\n",
        "img_width = 180\n",
        "\n",
        "data_dir = 'data'\n",
        "\n",
        "train_ds = tf.keras.utils.image_dataset_from_directory(\n",
        "  data_dir,\n",
        "  validation_split=0.2,\n",
        "  subset=\"training\",\n",
        "  seed=123,\n",
        "  image_size=(img_height, img_width),\n",
        "  batch_size=batch_size)\n",
        "\n",
        "val_ds = tf.keras.utils.image_dataset_from_directory(\n",
        "  data_dir,\n",
        "  validation_split=0.2,\n",
        "  subset=\"validation\",\n",
        "  seed=123,\n",
        "  image_size=(img_height, img_width),\n",
        "  batch_size=batch_size)\n",
        "\n",
        "class_names = train_ds.class_names\n",
        "print(class_names)\n",
        "\n",
        "AUTOTUNE = tf.data.AUTOTUNE\n",
        "\n",
        "train_ds = train_ds.cache().shuffle(1000).prefetch(buffer_size=AUTOTUNE)\n",
        "val_ds = val_ds.cache().prefetch(buffer_size=AUTOTUNE)"
      ]
    },
    {
      "cell_type": "code",
      "execution_count": 43,
      "metadata": {
        "id": "Dxe3PTEdnZJa"
      },
      "outputs": [],
      "source": [
        "data_augmentation = tf.keras.Sequential([\n",
        "  layers.RandomFlip('horizontal_and_vertical'),\n",
        "  layers.RandomRotation(0.2)\n",
        "])\n",
        "resnet_model = Sequential()\n",
        "\n",
        "pretrained_model = tf.keras.applications.resnet50.ResNet50(include_top=False,\n",
        "                                                           input_shape=[img_height,img_width,3],\n",
        "                                                           pooling = 'avg',\n",
        "                                                           classes = len(class_names),\n",
        "                                                           weights = 'imagenet')\n",
        "for layer in pretrained_model.layers[:143]:\n",
        "  layer.trainable = False\n",
        "resnet_model.add(pretrained_model)\n",
        "resnet_model.add(tf.keras.layers.Flatten())\n",
        "resnet_model.add(tf.keras.layers.Dense(len(class_names), activation='softmax'))\n",
        "\n",
        "epochs = 11\n",
        "\n",
        "def step_decay(epoch):\n",
        "  decay_rate = 1\n",
        "  initial_learning_rate = 0.001\n",
        "  lrate = initial_learning_rate * (1/(1+(decay_rate * epoch)))\n",
        "  print(lrate)\n",
        "  return lrate\n",
        "\n",
        "lrate = tf.keras.callbacks.LearningRateScheduler(step_decay)\n",
        "# num_train_steps = len(train_ds) * epochs\n",
        "# lr_scheduler  = PolynomialDecay(\n",
        "#     initial_learning_rate = 0.00001, \n",
        "#     end_learning_rate = 0.000001,\n",
        "#     decay_steps = num_train_steps\n",
        "# )\n",
        "\n"
      ]
    },
    {
      "cell_type": "code",
      "execution_count": 44,
      "metadata": {
        "id": "pzdDrusNYO2_"
      },
      "outputs": [],
      "source": [
        "resnet_model.compile(optimizer=tf.keras.optimizers.Adam(learning_rate=0.001),\n",
        "                    loss = 'sparse_categorical_crossentropy',\n",
        "                    metrics=['sparse_categorical_accuracy'])"
      ]
    },
    {
      "cell_type": "code",
      "execution_count": 45,
      "metadata": {
        "colab": {
          "base_uri": "https://localhost:8080/"
        },
        "id": "so1HTSgHa6v6",
        "outputId": "b540effb-8be2-495b-9940-4555d65dacc9"
      },
      "outputs": [
        {
          "output_type": "stream",
          "name": "stdout",
          "text": [
            "0.001\n",
            "Epoch 1/11\n",
            "250/250 [==============================] - 67s 250ms/step - loss: 0.3391 - sparse_categorical_accuracy: 0.8618 - val_loss: 0.3158 - val_sparse_categorical_accuracy: 0.8810 - lr: 0.0010\n",
            "0.0005\n",
            "Epoch 2/11\n",
            "250/250 [==============================] - 61s 246ms/step - loss: 0.1108 - sparse_categorical_accuracy: 0.9601 - val_loss: 0.2163 - val_sparse_categorical_accuracy: 0.9180 - lr: 5.0000e-04\n",
            "0.0003333333333333333\n",
            "Epoch 3/11\n",
            "250/250 [==============================] - 61s 245ms/step - loss: 0.0305 - sparse_categorical_accuracy: 0.9930 - val_loss: 0.2479 - val_sparse_categorical_accuracy: 0.9230 - lr: 3.3333e-04\n",
            "0.00025\n",
            "Epoch 4/11\n",
            "250/250 [==============================] - 61s 245ms/step - loss: 0.0049 - sparse_categorical_accuracy: 0.9999 - val_loss: 0.2603 - val_sparse_categorical_accuracy: 0.9255 - lr: 2.5000e-04\n",
            "0.0002\n",
            "Epoch 5/11\n",
            "250/250 [==============================] - 61s 246ms/step - loss: 0.0011 - sparse_categorical_accuracy: 1.0000 - val_loss: 0.2866 - val_sparse_categorical_accuracy: 0.9260 - lr: 2.0000e-04\n",
            "0.00016666666666666666\n",
            "Epoch 6/11\n",
            "250/250 [==============================] - 61s 246ms/step - loss: 5.2618e-04 - sparse_categorical_accuracy: 1.0000 - val_loss: 0.3018 - val_sparse_categorical_accuracy: 0.9245 - lr: 1.6667e-04\n",
            "0.00014285714285714284\n",
            "Epoch 7/11\n",
            "250/250 [==============================] - 61s 246ms/step - loss: 3.4162e-04 - sparse_categorical_accuracy: 1.0000 - val_loss: 0.3125 - val_sparse_categorical_accuracy: 0.9250 - lr: 1.4286e-04\n",
            "0.000125\n",
            "Epoch 8/11\n",
            "250/250 [==============================] - 61s 245ms/step - loss: 2.4635e-04 - sparse_categorical_accuracy: 1.0000 - val_loss: 0.3236 - val_sparse_categorical_accuracy: 0.9240 - lr: 1.2500e-04\n",
            "0.0001111111111111111\n",
            "Epoch 9/11\n",
            "250/250 [==============================] - 61s 245ms/step - loss: 1.8834e-04 - sparse_categorical_accuracy: 1.0000 - val_loss: 0.3301 - val_sparse_categorical_accuracy: 0.9260 - lr: 1.1111e-04\n",
            "0.0001\n",
            "Epoch 10/11\n",
            "250/250 [==============================] - 61s 245ms/step - loss: 1.4941e-04 - sparse_categorical_accuracy: 1.0000 - val_loss: 0.3372 - val_sparse_categorical_accuracy: 0.9260 - lr: 1.0000e-04\n",
            "9.090909090909092e-05\n",
            "Epoch 11/11\n",
            "250/250 [==============================] - 61s 245ms/step - loss: 1.2180e-04 - sparse_categorical_accuracy: 1.0000 - val_loss: 0.3435 - val_sparse_categorical_accuracy: 0.9250 - lr: 9.0909e-05\n"
          ]
        }
      ],
      "source": [
        "\n",
        "history = resnet_model.fit(\n",
        "  train_ds,\n",
        "  validation_data=val_ds,\n",
        "  epochs=epochs,\n",
        "  callbacks = [lrate]\n",
        ")\n"
      ]
    },
    {
      "cell_type": "code",
      "execution_count": 46,
      "metadata": {
        "id": "RczSHzI_7Suw",
        "colab": {
          "base_uri": "https://localhost:8080/",
          "height": 499
        },
        "outputId": "c0b394b0-ee66-428a-baf3-d0679bf7a5db"
      },
      "outputs": [
        {
          "output_type": "display_data",
          "data": {
            "text/plain": [
              "<Figure size 576x576 with 2 Axes>"
            ],
            "image/png": "[encoded data removed]"
          },
          "metadata": {
            "needs_background": "light"
          }
        }
      ],
      "source": [
        "acc = history.history['sparse_categorical_accuracy']\n",
        "val_acc = history.history['val_sparse_categorical_accuracy']\n",
        "\n",
        "loss = history.history['loss']\n",
        "val_loss = history.history['val_loss']\n",
        "\n",
        "epochs_range = range(len(loss))\n",
        "\n",
        "plt.figure(figsize=(8, 8))\n",
        "plt.subplot(1, 2, 1)\n",
        "plt.plot(epochs_range, acc, label='Training Accuracy')\n",
        "plt.plot(epochs_range, val_acc, label='Validation Accuracy')\n",
        "plt.legend(loc='lower right')\n",
        "plt.title('Training and Validation Accuracy')\n",
        "\n",
        "plt.subplot(1, 2, 2)\n",
        "plt.plot(epochs_range, loss, label='Training Loss')\n",
        "plt.plot(epochs_range, val_loss, label='Validation Loss')\n",
        "plt.legend(loc='upper right')\n",
        "plt.title('Training and Validation Loss')\n",
        "plt.show()"
      ]
    },
    {
      "cell_type": "code",
      "execution_count": 47,
      "metadata": {
        "id": "j2Wb3uYaMBGL"
      },
      "outputs": [],
      "source": [
        "path = '/content/test'\n",
        "filenames = sorted(os.listdir(path))\n",
        "\n",
        "test_images = []\n",
        "test_preds = []\n",
        "for file in filenames:\n",
        "  test_images.append(file)\n",
        "\n",
        "\n",
        "for idx, test_image in enumerate(test_images):\n",
        "  img = cv2.imread(os.path.join(path, test_image))\n",
        "  img = cv2.cvtColor(img, cv2.COLOR_BGR2RGB)\n",
        "  img = cv2.resize(img, (img_width, img_height))\n",
        "  img = np.reshape(img, (1, img.shape[0], img.shape[1], 3))\n",
        "  batch_predictions = resnet_model.predict(img)\n",
        "  predictions = batch_predictions[0]\n",
        "  pred_label_idx = np.argmax(predictions)\n",
        "  test_preds.append(pred_label_idx)\n"
      ]
    },
    {
      "cell_type": "code",
      "execution_count": 48,
      "metadata": {
        "id": "aWUImIifZKDH"
      },
      "outputs": [],
      "source": [
        "textfile = open('birdchecker.txt', \"w\")\n",
        "for element in test_preds:\n",
        "  if element == 1:\n",
        "    textfile.write(str(0) + \"\\n\")\n",
        "  else:\n",
        "    textfile.write(str(1) + \"\\n\")\n",
        "textfile.close()"
      ]
    }
  ],
  "metadata": {
    "colab": {
      "collapsed_sections": [],
      "name": "Lagarde_HW05.ipynb",
      "provenance": [],
      "authorship_tag": "ABX9TyN8svSKqJO+llz0TIFzPBJ4",
      "include_colab_link": true
    },
    "kernelspec": {
      "display_name": "Python 3",
      "name": "python3"
    },
    "language_info": {
      "name": "python"
    }
  },
  "nbformat": 4,
  "nbformat_minor": 0
}